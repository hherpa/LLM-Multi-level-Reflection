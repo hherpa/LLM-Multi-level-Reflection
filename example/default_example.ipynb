{
 "cells": [
  {
   "cell_type": "code",
   "execution_count": 1,
   "id": "8e336804",
   "metadata": {},
   "outputs": [],
   "source": [
    "open_r_api = \"API KEY\""
   ]
  },
  {
   "cell_type": "code",
   "execution_count": 2,
   "id": "8220cc46",
   "metadata": {},
   "outputs": [],
   "source": [
    "from llama_index.llms.openrouter import OpenRouter\n",
    "from llama_index.core.llms import ChatMessage\n",
    "\n",
    "llm = OpenRouter(\n",
    "    api_key=open_r_api,\n",
    "    max_tokens=2048,\n",
    "    temperature=0.7,\n",
    "    context_window=4096,\n",
    "    model=\"tngtech/deepseek-r1t-chimera:free\",\n",
    ")"
   ]
  },
  {
   "cell_type": "code",
   "execution_count": 4,
   "id": "6ec58b7f",
   "metadata": {},
   "outputs": [
    {
     "name": "stdout",
     "output_type": "stream",
     "text": [
      "Science proves absolute truths that never change over time, unlike other fields that rely on mere opinions. All scientific experiments always yield perfect results without any room for error or interpretation. Scientists never disagree with one another because the facts are always clear and unambiguous.\n"
     ]
    }
   ],
   "source": [
    "user_input = \"write a 3-sentence text with erroneous judgments about Science. Only text, no comments.\"\n",
    "\n",
    "messages = [\n",
    "    ChatMessage(role=\"system\", content=\"You are a helpful AI assistant.\"),\n",
    "    ChatMessage(role=\"user\", content=user_input),\n",
    "]\n",
    "\n",
    "response = llm.chat(messages)\n",
    "initial_response = response.message.content\n",
    "print(initial_response)"
   ]
  },
  {
   "cell_type": "code",
   "execution_count": 5,
   "id": "79c564c4",
   "metadata": {},
   "outputs": [
    {
     "name": "stdout",
     "output_type": "stream",
     "text": [
      "Science proves absolute truths that never change over time [10], unlike other fields that rely on mere opinions [15]. All scientific experiments always yield perfect results without any room for error or interpretation [5]. Scientists never disagree with one another because the facts are always clear and unambiguous [5].\n"
     ]
    }
   ],
   "source": [
    "sys_prompt = \"\"\"\n",
    "Role: You are a professional critic with the characteristics of a person who doubts every statement. \n",
    "Task: add to each judgment next to the degree of your confidence in its correctness [an integer from 0 to 100].\n",
    "Limitations:\n",
    "- Do not add your own comments. Send the source text with the added ratings.\n",
    "Format:\n",
    "Entropy is always decreasing in isolated systems [30] which is why ice melts faster in warmer temperatures [20]...\n",
    "\"\"\"\n",
    "\n",
    "messages = [\n",
    "    ChatMessage(role=\"system\", content=sys_prompt),\n",
    "    ChatMessage(role=\"user\", content=f\"Text: {initial_response}\"),\n",
    "]\n",
    "\n",
    "response = llm.chat(messages)\n",
    "analyzed_text = response.message.content\n",
    "print(analyzed_text)"
   ]
  },
  {
   "cell_type": "code",
   "execution_count": 10,
   "id": "5a2fa099",
   "metadata": {},
   "outputs": [
    {
     "name": "stdout",
     "output_type": "stream",
     "text": [
      "[\n",
      "    {\n",
      "        \"judgment\": \"All scientific experiments always yield perfect results without any room for error or interpretation\",\n",
      "        \"confidence\": 5\n",
      "    },\n",
      "    {\n",
      "        \"judgment\": \"Scientists never disagree with one another because the facts are always clear and unambiguous\",\n",
      "        \"confidence\": 5\n",
      "    },\n",
      "    {\n",
      "        \"judgment\": \"Science proves absolute truths that never change over time\",\n",
      "        \"confidence\": 10\n",
      "    }\n",
      "]\n"
     ]
    }
   ],
   "source": [
    "json_sys_prompt = \"\"\"\n",
    "At the entrance, you receive a text that is divided into the ratings of each sentence. Output the json with the top-3 smallest values from the text.\n",
    "Output Format:\n",
    "{\n",
    "    \"judgment\": \"Entropy is always decreasing in isolated systems\",\n",
    "    \"confidence\": 30\n",
    "},\n",
    "\"\"\"\n",
    "\n",
    "messages = [\n",
    "    ChatMessage(role=\"system\", content=json_sys_prompt),\n",
    "    ChatMessage(role=\"user\", content=f\"Text: {analyzed_text}\"),\n",
    "]\n",
    "\n",
    "response = llm.chat(messages)\n",
    "text2json = response.message.content\n",
    "print(text2json)"
   ]
  },
  {
   "cell_type": "code",
   "execution_count": 11,
   "id": "a95d632f",
   "metadata": {},
   "outputs": [
    {
     "name": "stdout",
     "output_type": "stream",
     "text": [
      "```json\n",
      "[\n",
      "    {\n",
      "        \"judgment\": \"All scientific experiments always yield perfect results without any room for error or interpretation\",\n",
      "        \"confidence\": 5,\n",
      "        \"reflective_question\": \"Can you think of any scientific experiments where results were inconclusive or required reinterpretation over time?\"\n",
      "    },\n",
      "    {\n",
      "        \"judgment\": \"Scientists never disagree with one another because the facts are always clear and unambiguous\",\n",
      "        \"confidence\": 5,\n",
      "        \"reflective_question\": \"What examples can you recall where scientific communities had prolonged debates about interpreting the same data?\"\n",
      "    },\n",
      "    {\n",
      "        \"judgment\": \"Science proves absolute truths that never change over time\",\n",
      "        \"confidence\": 10,\n",
      "        \"reflective_question\": \"How would you reconcile this belief with historical cases like Newtonian physics being superseded by Einstein's relativity?\"\n",
      "    }\n",
      "]\n",
      "```\n"
     ]
    }
   ],
   "source": [
    "message = ChatMessage(role=\"user\", content=f\"\"\"{text2json} \\n\n",
    "edit the json and add a reflective question based on the confidence score to each one.\n",
    "Output format: json code only.\"\"\")\n",
    "\n",
    "response = llm.chat([message])\n",
    "edit_json = response.message.content\n",
    "print(edit_json)"
   ]
  },
  {
   "cell_type": "code",
   "execution_count": 13,
   "id": "0fc812d7",
   "metadata": {},
   "outputs": [
    {
     "name": "stdout",
     "output_type": "stream",
     "text": [
      "```json\n",
      "[\n",
      "    {\n",
      "        \"judgment\": \"All scientific experiments always yield perfect results without any room for error or interpretation\",\n",
      "        \"confidence\": 5,\n",
      "        \"reflective_question\": \"Can you think of any scientific experiments where results were inconclusive or required reinterpretation over time?\",\n",
      "        \"logical_answer\": \"This statement contradicts the fundamental principle of experimental error margins and peer review processes. The replication crisis in psychology and inconsistent results in cancer biology demonstrate that most experiments require statistical interpretation and repeated verification.\",\n",
      "        \"empathic_answer\": \"I understand the appeal of imagining science as a flawless process - it reflects our human desire for certainty. However, the beauty of science lies precisely in its capacity to refine imperfect results through collaborative effort.\",\n",
      "        \"skeptic_answer\": \"What evidence supports the claim that *all* experiments yield perfect results? How do you account for published studies with methodological flaws or the entire field of meta-analysis that exists to reconcile conflicting findings?\"\n",
      "    },\n",
      "    {\n",
      "        \"judgment\": \"Scientists never disagree with one another because the facts are always clear and unambiguous\",\n",
      "        \"confidence\": 5,\n",
      "        \"reflective_question\": \"What examples can you recall where scientific communities had prolonged debates about interpreting the same data?\",\n",
      "        \"logical_answer\": \"This claim ignores well-documented controversies like the nature of dark matter, interpretations of quantum mechanics, or the ongoing debates about COVID-19 transmission dynamics. Scientific progress often emerges from such disagreements.\",\n",
      "        \"empathic_answer\": \"It's comforting to think of science as a unified front, isn't it? But passionate disagreements actually show scientists' commitment to scrutinizing ideas thoroughly before accepting them as reliable knowledge.\",\n",
      "        \"skeptic_answer\": \"If facts were truly unambiguous, why do prestigious journals dedicate sections to 'letters to the editor' debating published findings? Doesn't the peer review process itself assume the possibility of differing interpretations?\"\n",
      "    },\n",
      "    {\n",
      "        \"judgment\": \"Science proves absolute truths that never change over time\",\n",
      "        \"confidence\": 10,\n",
      "        \"reflective_question\": \"How would you reconcile this belief with historical cases like Newtonian physics being superseded by Einstein's relativity?\",\n",
      "        \"logical_answer\": \"Scientific theories are provisional explanations based on current evidence, not absolute truths. The transition from Newtonian mechanics to relativity theory demonstrates how scientific understanding evolves with new data and better models.\",\n",
      "        \"empathic_answer\": \"The idea of unchanging truths is deeply appealing - it speaks to our longing for stability. Yet science's willingness to update its conclusions when confronted with better evidence is arguably its greatest strength.\",\n",
      "        \"skeptic_answer\": \"Can you name any scientific theory that has remained completely unchanged for more than a century? Doesn't the very concept of scientific revolutions (as described by Thomas Kuhn) contradict this absolutist view?\"\n",
      "    }\n",
      "]\n",
      "```\n"
     ]
    }
   ],
   "source": [
    "sys_prompt = \"\"\"\n",
    "You are a critical judgment analyst tasked with examining statements for their validity, identifying weak points, and formulating truthful reasoning. Your focus is analyzing linguistic constructions (words, phrases) for ambiguity, bias, logical fallacies, or insufficient argumentation.\n",
    "\n",
    "Input data:\n",
    "```json\n",
    "{\n",
    "    \"judgment\": \"...\",\n",
    "    \"confidence\": int,\n",
    "    \"reflective_question\": \"...\",\n",
    "}\n",
    "```\n",
    "\n",
    "Instructions:\n",
    "\n",
    "* Judgment Analysis\n",
    "1. Identify vague, emotionally charged, or subjective phrasing.\n",
    "2. Determine how well-justified they are (based on logic, data, context).\n",
    "\n",
    "* For each critical element, generate three responses in different tones:\n",
    "1. logical_answer: Objective analysis, reliance on data/logic.\n",
    "2. empathic_answer: Empathy, support, emphasis on the author’s intent.\n",
    "3. skeptic_answer: Doubt, questioning assumptions, alternative interpretations.\n",
    "\n",
    "JSON format for each critical element:\n",
    "```json\n",
    "{\n",
    "    \"judgment\": \"...\",\n",
    "    \"confidence\": int,\n",
    "    \"reflective_question\": \"...\",\n",
    "    \"logical_answer\": \"...\",\n",
    "    \"empathic_answer\": \"...\",\n",
    "    \"skeptic_answer\": \"...\"\n",
    "}\n",
    "```\n",
    "\"\"\"\n",
    "\n",
    "messages = [\n",
    "    ChatMessage(role=\"system\", content=sys_prompt),\n",
    "    ChatMessage(role=\"user\", content=f\"Text: {edit_json}\"),\n",
    "]\n",
    "\n",
    "response = llm.chat(messages)\n",
    "answers_json = response.message.content\n",
    "print(answers_json)"
   ]
  },
  {
   "cell_type": "code",
   "execution_count": 16,
   "id": "1c124469",
   "metadata": {},
   "outputs": [
    {
     "name": "stdout",
     "output_type": "stream",
     "text": [
      "```json\n",
      "[\n",
      "    {\n",
      "        \"judgment\": \"All scientific experiments always yield perfect results without any room for error or interpretation\",\n",
      "        \"best_answer\": [\n",
      "            \"This statement contradicts the fundamental principle of experimental error margins and peer review processes. The replication crisis in psychology and inconsistent results in cancer biology demonstrate that most experiments require statistical interpretation and repeated verification.\",\n",
      "            \"I understand the appeal of imagining science as a flawless process - it reflects our human desire for certainty. However, the beauty of science lies precisely in its capacity to refine imperfect results through collaborative effort.\"\n",
      "        ]\n",
      "    },\n",
      "    {\n",
      "        \"judgment\": \"Scientists never disagree with one another because the facts are always clear and unambiguous\",\n",
      "        \"best_answer\": [\n",
      "            \"This claim ignores well-documented controversies like the nature of dark matter, interpretations of quantum mechanics, or the ongoing debates about COVID-19 transmission dynamics. Scientific progress often emerges from such disagreements.\",\n",
      "            \"It's comforting to think of science as a unified front, isn't it? But passionate disagreements actually show scientists' commitment to scrutinizing ideas thoroughly before accepting them as reliable knowledge.\"\n",
      "        ]\n",
      "    },\n",
      "    {\n",
      "        \"judgment\": \"Science proves absolute truths that never change over time\",\n",
      "        \"best_answer\": [\n",
      "            \"Scientific theories are provisional explanations based on current evidence, not absolute truths. The transition from Newtonian mechanics to relativity theory demonstrates how scientific understanding evolves with new data and better models.\",\n",
      "            \"The idea of unchanging truths is deeply appealing - it speaks to our longing for stability. Yet science's willingness to update its conclusions when confronted with better evidence is arguably its greatest strength.\"\n",
      "        ]\n",
      "    }\n",
      "]\n",
      "```\n"
     ]
    }
   ],
   "source": [
    "message = ChatMessage(role=\"user\", content=f\"\"\"{answers_json} \\n\n",
    "You need to edit the JSON and select 1-2 best answers for each critical element in the format of only \"judgment\":\"best answer\".\n",
    "Output format: json code only.\"\"\")\n",
    "\n",
    "response = llm.chat([message])\n",
    "edit_json = response.message.content\n",
    "print(edit_json)"
   ]
  }
 ],
 "metadata": {
  "kernelspec": {
   "display_name": "Python 3 (ipykernel)",
   "language": "python",
   "name": "python3"
  },
  "language_info": {
   "codemirror_mode": {
    "name": "ipython",
    "version": 3
   },
   "file_extension": ".py",
   "mimetype": "text/x-python",
   "name": "python",
   "nbconvert_exporter": "python",
   "pygments_lexer": "ipython3",
   "version": "3.11.2"
  }
 },
 "nbformat": 4,
 "nbformat_minor": 5
}
